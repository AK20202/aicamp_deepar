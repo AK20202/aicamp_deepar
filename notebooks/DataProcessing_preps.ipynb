{
 "cells": [
  {
   "cell_type": "code",
   "execution_count": 1,
   "metadata": {},
   "outputs": [],
   "source": [
    "import pandas as pd\n",
    "import numpy as np\n",
    "import gc\n",
    "import os\n",
    "import json"
   ]
  },
  {
   "cell_type": "markdown",
   "metadata": {},
   "source": [
    "### Settings"
   ]
  },
  {
   "cell_type": "code",
   "execution_count": 2,
   "metadata": {},
   "outputs": [],
   "source": [
    "with open('settings.json', 'r') as j:\n",
    "    json_data = json.load(j)\n",
    "\n",
    "project_path = json_data[\"project_path\"]\n",
    "\n",
    "data_path = os.path.join(project_path, \"data\")\n",
    "python_path = os.path.join(project_path, \"python\")\n",
    "\n",
    "raw_data_path = os.path.join(data_path, \"raw\", \"with_loc\")\n",
    "output_data_path = os.path.join(data_path, \"output\")\n",
    "supporting_dp = os.path.join(data_path, \"supporting\")\n",
    "data_chunks = os.path.join(data_path,\"data_chunks\")\n"
   ]
  },
  {
   "cell_type": "code",
   "execution_count": 3,
   "metadata": {},
   "outputs": [],
   "source": [
    "region_borders_fn = \"regions.csv\""
   ]
  },
  {
   "cell_type": "code",
   "execution_count": 4,
   "metadata": {},
   "outputs": [
    {
     "data": {
      "text/plain": [
       "'c:\\\\Users\\\\Anna\\\\Desktop\\\\AI_camp\\\\YT\\\\python'"
      ]
     },
     "execution_count": 4,
     "metadata": {},
     "output_type": "execute_result"
    }
   ],
   "source": [
    "python_path"
   ]
  },
  {
   "cell_type": "code",
   "execution_count": 5,
   "metadata": {},
   "outputs": [],
   "source": [
    "import sys\n",
    "sys.path.append(python_path)"
   ]
  },
  {
   "cell_type": "code",
   "execution_count": 6,
   "metadata": {},
   "outputs": [],
   "source": [
    "import utils"
   ]
  },
  {
   "cell_type": "markdown",
   "metadata": {},
   "source": [
    "#### Regions borders"
   ]
  },
  {
   "cell_type": "code",
   "execution_count": 7,
   "metadata": {},
   "outputs": [],
   "source": [
    "#lets take may-16 drives and borders\n",
    "borders = pd.read_csv(os.path.join(supporting_dp,'regions.csv')\n",
    "                      , sep = ';', header =0)"
   ]
  },
  {
   "cell_type": "code",
   "execution_count": 8,
   "metadata": {},
   "outputs": [
    {
     "data": {
      "text/html": [
       "<div>\n",
       "<style scoped>\n",
       "    .dataframe tbody tr th:only-of-type {\n",
       "        vertical-align: middle;\n",
       "    }\n",
       "\n",
       "    .dataframe tbody tr th {\n",
       "        vertical-align: top;\n",
       "    }\n",
       "\n",
       "    .dataframe thead th {\n",
       "        text-align: right;\n",
       "    }\n",
       "</style>\n",
       "<table border=\"1\" class=\"dataframe\">\n",
       "  <thead>\n",
       "    <tr style=\"text-align: right;\">\n",
       "      <th></th>\n",
       "      <th>region</th>\n",
       "      <th>west</th>\n",
       "      <th>east</th>\n",
       "      <th>south</th>\n",
       "      <th>north</th>\n",
       "    </tr>\n",
       "  </thead>\n",
       "  <tbody>\n",
       "    <tr>\n",
       "      <th>0</th>\n",
       "      <td>1</td>\n",
       "      <td>-74.25559</td>\n",
       "      <td>-74.244478</td>\n",
       "      <td>40.496120</td>\n",
       "      <td>40.504508</td>\n",
       "    </tr>\n",
       "    <tr>\n",
       "      <th>1</th>\n",
       "      <td>2</td>\n",
       "      <td>-74.25559</td>\n",
       "      <td>-74.244478</td>\n",
       "      <td>40.504508</td>\n",
       "      <td>40.512896</td>\n",
       "    </tr>\n",
       "    <tr>\n",
       "      <th>2</th>\n",
       "      <td>3</td>\n",
       "      <td>-74.25559</td>\n",
       "      <td>-74.244478</td>\n",
       "      <td>40.512896</td>\n",
       "      <td>40.521285</td>\n",
       "    </tr>\n",
       "    <tr>\n",
       "      <th>3</th>\n",
       "      <td>4</td>\n",
       "      <td>-74.25559</td>\n",
       "      <td>-74.244478</td>\n",
       "      <td>40.521285</td>\n",
       "      <td>40.529673</td>\n",
       "    </tr>\n",
       "    <tr>\n",
       "      <th>4</th>\n",
       "      <td>5</td>\n",
       "      <td>-74.25559</td>\n",
       "      <td>-74.244478</td>\n",
       "      <td>40.529673</td>\n",
       "      <td>40.538061</td>\n",
       "    </tr>\n",
       "  </tbody>\n",
       "</table>\n",
       "</div>"
      ],
      "text/plain": [
       "   region      west       east      south      north\n",
       "0       1 -74.25559 -74.244478  40.496120  40.504508\n",
       "1       2 -74.25559 -74.244478  40.504508  40.512896\n",
       "2       3 -74.25559 -74.244478  40.512896  40.521285\n",
       "3       4 -74.25559 -74.244478  40.521285  40.529673\n",
       "4       5 -74.25559 -74.244478  40.529673  40.538061"
      ]
     },
     "execution_count": 8,
     "metadata": {},
     "output_type": "execute_result"
    }
   ],
   "source": [
    "borders.head()"
   ]
  },
  {
   "cell_type": "markdown",
   "metadata": {},
   "source": [
    "### Files to Parce"
   ]
  },
  {
   "cell_type": "code",
   "execution_count": 9,
   "metadata": {},
   "outputs": [],
   "source": [
    "##### Files review\n",
    "#subfolder_list = []\n",
    "#for (dirpath, dirnames, filenames) in os.walk(raw_data_path):\n",
    "#        subfolder_list.extend(dirnames)\n",
    "\n",
    "#colum_list = []\n",
    "\n",
    "# for sbf in subfolder_list:\n",
    "#     print(sbf)\n",
    "#     file_list = []\n",
    "#     for (dirpath, dirnames, filenames) in os.walk(os.path.join(raw_data_path, sbf)):\n",
    "#         file_list.extend(filenames)\n",
    "#     #break\n",
    "#     for f in file_list:\n",
    "#         print(f)\n",
    "#         f_path = os.path.join(raw_data_path, sbf, f)\n",
    "#         dt = pd.read_csv(f_path, sep = ',', header = 0, nrows=3)\n",
    "       \n",
    "#         tmp = pd.DataFrame({'sbf': [sbf]*len(dt.columns)\n",
    "#                             ,'f': [f]*len(dt.columns)\n",
    "#                             ,'cols': list(dt.columns)})\n",
    "#         colum_list.append(tmp)\n",
    "\n",
    "# columns_dt = pd.concat(colum_list, ignore_index = True)\n",
    "# columns_dt.head()"
   ]
  },
  {
   "cell_type": "code",
   "execution_count": 10,
   "metadata": {},
   "outputs": [],
   "source": [
    "#columns_dt.shape"
   ]
  },
  {
   "cell_type": "code",
   "execution_count": 11,
   "metadata": {},
   "outputs": [],
   "source": [
    "#columns_dt.loc[columns_dt.cols == ' dropoff_datetime'].head()"
   ]
  },
  {
   "cell_type": "code",
   "execution_count": 12,
   "metadata": {},
   "outputs": [],
   "source": [
    "#columns_dt.to_csv(os.path.join(output_data_path, \"column_data.csv\"), sep=\",\", header=True, index=False)"
   ]
  },
  {
   "cell_type": "markdown",
   "metadata": {},
   "source": [
    "#### 2009"
   ]
  },
  {
   "cell_type": "code",
   "execution_count": 13,
   "metadata": {},
   "outputs": [],
   "source": [
    "sbf = '2016'\n",
    "\n",
    "file_list = []\n",
    "\n",
    "for (dirpath, dirnames, filenames) in os.walk(os.path.join(raw_data_path, sbf)):\n",
    "        file_list.extend(filenames)\n"
   ]
  },
  {
   "cell_type": "code",
   "execution_count": 14,
   "metadata": {},
   "outputs": [
    {
     "data": {
      "text/plain": [
       "['yellow_tripdata_2016-01.csv',\n",
       " 'yellow_tripdata_2016-02.csv',\n",
       " 'yellow_tripdata_2016-03.csv',\n",
       " 'yellow_tripdata_2016-04.csv',\n",
       " 'yellow_tripdata_2016-05.csv',\n",
       " 'yellow_tripdata_2016-06.csv']"
      ]
     },
     "execution_count": 14,
     "metadata": {},
     "output_type": "execute_result"
    }
   ],
   "source": [
    "file_list"
   ]
  },
  {
   "cell_type": "markdown",
   "metadata": {},
   "source": [
    "### We look aonly on squared that in May 2016 has 5 rides in avergage"
   ]
  },
  {
   "cell_type": "code",
   "execution_count": 15,
   "metadata": {},
   "outputs": [],
   "source": [
    "f = 'yellow_tripdata_2016-05.csv'\n",
    "f_path = os.path.join(raw_data_path, sbf, f)\n",
    "dt = pd.read_csv(f_path, sep = ',', header = 0)\n",
    "dt = utils.target_column_clean_up(dt)\n",
    "dt_cl = utils.basic_data_cleaning_and_new_features_wk1(dt)\n",
    "counts_data = utils.get_counts_per_hour_per_region(dt_cl)"
   ]
  },
  {
   "cell_type": "code",
   "execution_count": 16,
   "metadata": {},
   "outputs": [
    {
     "name": "stdout",
     "output_type": "stream",
     "text": [
      "Number Of Cellc With No Drive: 1718238\n",
      "Total number of cells: 1860000\n",
      "% of Cells With no Drive: 0.923783870967742\n"
     ]
    }
   ],
   "source": [
    "print('Number Of Cellc With No Drive:', counts_data.loc[counts_data.Counts == 0].shape[0])\n",
    "print('Total number of cells:', counts_data.shape[0])\n",
    "print('% of Cells With no Drive:', (1.0*counts_data.loc[counts_data.Counts == 0].shape[0])/counts_data.shape[0])"
   ]
  },
  {
   "cell_type": "code",
   "execution_count": 17,
   "metadata": {},
   "outputs": [
    {
     "name": "stdout",
     "output_type": "stream",
     "text": [
      "      region       west       east      south      north         Avg       Sum\n",
      "1074    1075 -74.022246 -74.011135  40.697437  40.705825   66.799731   49699.0\n",
      "1075    1076 -74.022246 -74.011135  40.705825  40.714213  138.266129  102870.0\n",
      "1076    1077 -74.022246 -74.011135  40.714213  40.722601   86.802419   64581.0\n",
      "1124    1125 -74.011135 -74.000023  40.697437  40.705825   66.041667   49135.0\n",
      "1125    1126 -74.011135 -74.000023  40.705825  40.714213  181.892473  135328.0\n"
     ]
    },
    {
     "name": "stderr",
     "output_type": "stream",
     "text": [
      "C:\\Users\\Anna\\Anaconda3\\lib\\site-packages\\ipykernel_launcher.py:4: FutureWarning: Method .as_matrix will be removed in a future version. Use .values instead.\n",
      "  after removing the cwd from sys.path.\n",
      "C:\\Users\\Anna\\Anaconda3\\lib\\site-packages\\ipykernel_launcher.py:5: FutureWarning: Method .as_matrix will be removed in a future version. Use .values instead.\n",
      "  \"\"\"\n"
     ]
    }
   ],
   "source": [
    "desc_per_square = pd.pivot_table(counts_data, values='Counts', index=['Square_id'],\n",
    "                  columns=None, aggfunc=[np.sum, np.mean])\n",
    "\n",
    "borders['Avg'] = pd.Series(desc_per_square.as_matrix()[:,1], index=borders.index)\n",
    "borders['Sum'] = pd.Series(desc_per_square.as_matrix()[:,0], index=borders.index)\n",
    "\n",
    "popular = borders.loc[borders.Avg > 5]\n",
    "print(popular.head())"
   ]
  },
  {
   "cell_type": "code",
   "execution_count": 18,
   "metadata": {},
   "outputs": [
    {
     "name": "stdout",
     "output_type": "stream",
     "text": [
      "102\n"
     ]
    }
   ],
   "source": [
    "print(len(popular.region.tolist()))"
   ]
  },
  {
   "cell_type": "code",
   "execution_count": 19,
   "metadata": {},
   "outputs": [],
   "source": [
    "target_region_id_list = popular.region.tolist()"
   ]
  },
  {
   "cell_type": "code",
   "execution_count": 20,
   "metadata": {},
   "outputs": [],
   "source": [
    "fn = os.path.join(supporting_dp, \"target_region_id_list.csv\")\n",
    "pd.DataFrame({\"target_region_id_list\": target_region_id_list}).to_csv(fn, header=True, sep=\",\", index=False)"
   ]
  },
  {
   "cell_type": "code",
   "execution_count": 21,
   "metadata": {},
   "outputs": [],
   "source": [
    "del(dt)\n",
    "del(dt_cl)"
   ]
  },
  {
   "cell_type": "code",
   "execution_count": null,
   "metadata": {},
   "outputs": [],
   "source": []
  }
 ],
 "metadata": {
  "kernelspec": {
   "display_name": "Python 3",
   "language": "python",
   "name": "python3"
  },
  "language_info": {
   "codemirror_mode": {
    "name": "ipython",
    "version": 3
   },
   "file_extension": ".py",
   "mimetype": "text/x-python",
   "name": "python",
   "nbconvert_exporter": "python",
   "pygments_lexer": "ipython3",
   "version": "3.7.3"
  },
  "toc": {
   "base_numbering": 1,
   "nav_menu": {},
   "number_sections": true,
   "sideBar": true,
   "skip_h1_title": false,
   "title_cell": "Table of Contents",
   "title_sidebar": "Contents",
   "toc_cell": false,
   "toc_position": {},
   "toc_section_display": true,
   "toc_window_display": false
  }
 },
 "nbformat": 4,
 "nbformat_minor": 2
}
